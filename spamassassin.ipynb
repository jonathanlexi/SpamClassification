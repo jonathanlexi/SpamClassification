{
  "nbformat": 4,
  "nbformat_minor": 0,
  "metadata": {
    "colab": {
      "provenance": []
    },
    "kernelspec": {
      "name": "python3",
      "display_name": "Python 3"
    },
    "language_info": {
      "name": "python"
    }
  },
  "cells": [
    {
      "cell_type": "markdown",
      "source": [
        "# **IMPORT LIBRARY**"
      ],
      "metadata": {
        "id": "6G8OXcSgwOKl"
      }
    },
    {
      "cell_type": "code",
      "execution_count": null,
      "metadata": {
        "id": "I2vvi7EhgzdH"
      },
      "outputs": [],
      "source": [
        "import tarfile\n",
        "import os\n",
        "import numpy as np\n",
        "from sklearn.model_selection import train_test_split\n",
        "from tensorflow.keras.preprocessing.text import Tokenizer\n",
        "from tensorflow.keras.preprocessing.sequence import pad_sequences\n",
        "from tensorflow.keras.models import Sequential\n",
        "from tensorflow.keras.layers import Embedding, LSTM, Dense\n",
        "import random\n",
        "import matplotlib.pyplot as plt"
      ]
    },
    {
      "cell_type": "markdown",
      "source": [
        "# **LOAD AND DATASET PROCESSING**"
      ],
      "metadata": {
        "id": "ayF0ye791Is8"
      }
    },
    {
      "cell_type": "markdown",
      "source": [
        "Disini diekstrak email spam dari file spam.tar.bz2 dan non-spam dari easy_ham.tar.bz2 . Lalu dipersiapkan dataset dengan mengambil konten teks dari setiap file email dalam direktori spam dan non-spam dimana spam disimpan dalam variable spam_emails dan non_spam di ham_emails. teks email yang diambil kemudian digabungkan dalam variabel emails dan dibuat array labels dimana spam akan dilabeli 1 dan non spam dilabeli 0 dan akhirnya mengembalikan variabel email dan labels sebagai hasil processing."
      ],
      "metadata": {
        "id": "saXJ4N82z3tE"
      }
    },
    {
      "cell_type": "code",
      "source": [
        "# Load the dataset and preprocess it\n",
        "def load_dataset():\n",
        "    # Extract spam emails\n",
        "    tar_spam = tarfile.open(\"20021010_spam.tar.bz2\", \"r:bz2\")\n",
        "    tar_spam.extractall()\n",
        "    tar_spam.close()\n",
        "    \n",
        "    # Extract non-spam emails\n",
        "    tar_easy_ham = tarfile.open(\"20030228_easy_ham.tar.bz2\", \"r:bz2\")\n",
        "    tar_easy_ham.extractall()\n",
        "    tar_easy_ham.close()\n",
        "    \n",
        "    # Prepare the dataset\n",
        "    spam_dir = \"./spam\"\n",
        "    ham_dir = \"./easy_ham\"\n",
        "    \n",
        "    spam_emails = [open(os.path.join(spam_dir, f), errors='ignore').read() for f in os.listdir(spam_dir)]\n",
        "    ham_emails = [open(os.path.join(ham_dir, f), errors='ignore').read() for f in os.listdir(ham_dir)]\n",
        "    \n",
        "    emails = spam_emails + ham_emails\n",
        "    labels = np.array([1] * len(spam_emails) + [0] * len(ham_emails))\n",
        "    \n",
        "    return emails, labels"
      ],
      "metadata": {
        "id": "jKyZtxowvNxl"
      },
      "execution_count": null,
      "outputs": []
    },
    {
      "cell_type": "markdown",
      "source": [
        "# **VISUALISASI DATA**"
      ],
      "metadata": {
        "id": "k2QcXL4724Dk"
      }
    },
    {
      "cell_type": "markdown",
      "source": [
        "Menunjukkan Grafik Distribusi jumlah email spam dan non-spam"
      ],
      "metadata": {
        "id": "epfiQHBB3GpD"
      }
    },
    {
      "cell_type": "code",
      "source": [
        "# Load the dataset\n",
        "emails, labels = load_dataset()\n",
        "\n",
        "# Count the number of spam and non-spam emails\n",
        "spam_count = np.sum(labels)\n",
        "non_spam_count = len(labels) - spam_count\n",
        "\n",
        "# Visualize the distribution\n",
        "labels = ['Spam', 'Non-Spam']\n",
        "sizes = [spam_count, non_spam_count]\n",
        "colors = ['#ff9999', '#66b3ff']\n",
        "\n",
        "plt.figure(figsize=(6, 6))\n",
        "plt.pie(sizes, labels=labels, colors=colors, autopct='%1.1f%%', startangle=90)\n",
        "plt.axis('equal')  # Equal aspect ratio ensures that pie is drawn as a circle.\n",
        "plt.title('Distribution of Spam and Non-Spam Emails')\n",
        "plt.show()"
      ],
      "metadata": {
        "colab": {
          "base_uri": "https://localhost:8080/",
          "height": 521
        },
        "id": "X3Gr-M602OnM",
        "outputId": "92d4c027-65fb-4c71-e8de-f508a596eee0"
      },
      "execution_count": null,
      "outputs": [
        {
          "output_type": "display_data",
          "data": {
            "text/plain": [
              "<Figure size 600x600 with 1 Axes>"
            ],
            "image/png": "[encoded data removed]"
          },
          "metadata": {}
        }
      ]
    },
    {
      "cell_type": "markdown",
      "source": [
        "# **CONTOH EMAIL SPAM DAN NON SPAM DARI DATASET**"
      ],
      "metadata": {
        "id": "IZh0DjX2w41M"
      }
    },
    {
      "cell_type": "markdown",
      "source": [
        "Menunjukkan contoh email spam dan non spam dari dataset spamassassin"
      ],
      "metadata": {
        "id": "YaaJVwsz3U-z"
      }
    },
    {
      "cell_type": "code",
      "source": [
        "# Extracted dataset directories\n",
        "spam_dir = \"./spam\"\n",
        "ham_dir = \"./easy_ham\"\n",
        "\n",
        "# Function to read email content\n",
        "def read_email(directory, filename):\n",
        "    file_path = os.path.join(directory, filename)\n",
        "    with open(file_path, 'r', errors='ignore') as file:\n",
        "        content = file.read()\n",
        "    return content\n",
        "\n",
        "# Get a random spam email\n",
        "spam_emails = os.listdir(spam_dir)\n",
        "random_spam_email = random.choice(spam_emails)\n",
        "spam_email_content = read_email(spam_dir, random_spam_email)\n",
        "\n",
        "print(\"Example of a spam email:\")\n",
        "print(\"-------------------------\")\n",
        "print(spam_email_content)\n",
        "print(\"-------------------------\\n\")\n",
        "\n",
        "# Get a random non-spam email\n",
        "ham_emails = os.listdir(ham_dir)\n",
        "random_ham_email = random.choice(ham_emails)\n",
        "ham_email_content = read_email(ham_dir, random_ham_email)\n",
        "\n",
        "print(\"Example of a non-spam email:\")\n",
        "print(\"-----------------------------\")\n",
        "print(ham_email_content)\n",
        "print(\"-----------------------------\\n\")\n"
      ],
      "metadata": {
        "colab": {
          "base_uri": "https://localhost:8080/"
        },
        "id": "0QmZkhDCoAoE",
        "outputId": "ccf32482-5ecf-49f8-c30e-73785f8350e3"
      },
      "execution_count": null,
      "outputs": [
        {
          "output_type": "stream",
          "name": "stdout",
          "text": [
            "Example of a spam email:\n",
            "-------------------------\n",
            "From haggen@freemail.nl  Wed Sep 25 10:29:12 2002\n",
            "Return-Path: <haggen@freemail.nl>\n",
            "Delivered-To: zzzz@localhost.jmason.org\n",
            "Received: from localhost (jalapeno [127.0.0.1])\n",
            "\tby zzzzason.org (Postfix) with ESMTP id EA41316F03\n",
            "\tfor <zzzz@localhost>; Wed, 25 Sep 2002 10:29:11 +0100 (IST)\n",
            "Received: from jalapeno [127.0.0.1]\n",
            "\tby localhost with IMAP (fetchmail-5.9.0)\n",
            "\tfor zzzz@localhost (single-drop); Wed, 25 Sep 2002 10:29:11 +0100 (IST)\n",
            "Received: from webnote.net (mail.webnote.net [193.120.211.219]) by\n",
            "    dogma.slashnull.org (8.11.6/8.11.6) with ESMTP id g8P28HC04819 for\n",
            "    <zzzz@jmason.org>; Wed, 25 Sep 2002 03:08:17 +0100\n",
            "Received: from freemail.nl (200-161-16-177.dsl.telesp.net.br\n",
            "    [200.161.16.177]) by webnote.net (8.9.3/8.9.3) with SMTP id DAA22151;\n",
            "    Wed, 25 Sep 2002 03:08:34 +0100\n",
            "Date: Wed, 25 Sep 2002 03:08:34 +0100\n",
            "From: haggen@freemail.nl\n",
            "Reply-To: <haggen@freemail.nl>\n",
            "Message-Id: <004c10e04bea$8426d3c4$8ba66bd7@huvnsn>\n",
            "To: glen12@yahoo.com\n",
            "Subject: FORTUNE 500 WORK AT HOME REPS NEEDED!\n",
            "MIME-Version: 1.0\n",
            "Content-Type: text/plain; charset=\"iso-8859-1\"\n",
            "X-Priority: 3 (Normal)\n",
            "X-Msmail-Priority: Normal\n",
            "X-Mailer: Microsoft Outlook, Build 10.0.2627\n",
            "Importance: Normal\n",
            "Content-Transfer-Encoding: 8bit\n",
            "\n",
            "Immediate Help Needed.  We are a fortune 500 company that is \n",
            "growing at a tremendous rate of over 1000% per year. We simply cannot \n",
            "keep up. We are looking for motivated individuals who are looking to \n",
            "earn a substantial income working from home. \n",
            "\n",
            "This is a real opportunity to make an excellent income from home. No \n",
            "experience is required.  We will provide you with any training you may need. \n",
            "\n",
            "We are looking for energetic and self motivated people.  If that is you \n",
            "than click on the link below and complete our online information request \n",
            "form, \n",
            "and one of our employment specialist will contact you. \n",
            "\n",
            "http://ter.netblah.com:8080\n",
            "\n",
            "So if you are looking to be employed at home, with a career that will \n",
            "provide you vast opportunities and a substantial income, please fill \n",
            "out our online information request form here now: \n",
            "\n",
            "http://www.zhoster.com:8080/homeopp/ \n",
            "\n",
            "\n",
            "To be removed from our list simply click on the link below now: \n",
            "\n",
            "http://www.zhoster.com:26000/homeopp/remove.html\n",
            "6115CNUY4-341mBpO6887KGZk1-483ZEiE1934cEmx1-116CJYF2258Aegj1-5l58\n",
            "\n",
            "\n",
            "\n",
            "-------------------------\n",
            "\n",
            "Example of a non-spam email:\n",
            "-----------------------------\n",
            "From fork-admin@xent.com  Mon Sep 30 19:58:59 2002\n",
            "Return-Path: <fork-admin@xent.com>\n",
            "Delivered-To: yyyy@localhost.spamassassin.taint.org\n",
            "Received: from localhost (jalapeno [127.0.0.1])\n",
            "\tby jmason.org (Postfix) with ESMTP id 1913016F21\n",
            "\tfor <jm@localhost>; Mon, 30 Sep 2002 19:57:33 +0100 (IST)\n",
            "Received: from jalapeno [127.0.0.1]\n",
            "\tby localhost with IMAP (fetchmail-5.9.0)\n",
            "\tfor jm@localhost (single-drop); Mon, 30 Sep 2002 19:57:33 +0100 (IST)\n",
            "Received: from xent.com ([64.161.22.236]) by dogma.slashnull.org\n",
            "    (8.11.6/8.11.6) with ESMTP id g8UHJUK09309 for <jm@jmason.org>;\n",
            "    Mon, 30 Sep 2002 18:19:30 +0100\n",
            "Received: from lair.xent.com (localhost [127.0.0.1]) by xent.com (Postfix)\n",
            "    with ESMTP id 63C382940EB; Mon, 30 Sep 2002 10:19:09 -0700 (PDT)\n",
            "Delivered-To: fork@spamassassin.taint.org\n",
            "Received: from jamesr.best.vwh.net (jamesr.best.vwh.net [192.220.76.165])\n",
            "    by xent.com (Postfix) with SMTP id 916262940EA for <fork@xent.com>;\n",
            "    Mon, 30 Sep 2002 10:18:07 -0700 (PDT)\n",
            "Received: (qmail 36539 invoked by uid 19621); 30 Sep 2002 17:15:59 -0000\n",
            "Received: from unknown (HELO avalon) ([64.125.200.18]) (envelope-sender\n",
            "    <jamesr@best.com>) by 192.220.76.165 (qmail-ldap-1.03) with SMTP for\n",
            "    <fork@xent.com>; 30 Sep 2002 17:15:59 -0000\n",
            "Subject: Re: A moment of silence for the First Amendment (fwd)\n",
            "From: James Rogers <jamesr@best.com>\n",
            "To: fork@spamassassin.taint.org\n",
            "In-Reply-To: <3D9879E9.7020708@permafrost.net>\n",
            "References: <JHEPKCEMGPKFFDHHDDKDMEJBFIAA.bill@wstoddard.com>\n",
            "    <3D9879E9.7020708@permafrost.net>\n",
            "Content-Type: text/plain\n",
            "Content-Transfer-Encoding: 7bit\n",
            "X-Mailer: Evolution/1.0.2-5mdk\n",
            "Message-Id: <1033407397.13480.34.camel@avalon>\n",
            "MIME-Version: 1.0\n",
            "Sender: fork-admin@xent.com\n",
            "Errors-To: fork-admin@xent.com\n",
            "X-Beenthere: fork@spamassassin.taint.org\n",
            "X-Mailman-Version: 2.0.11\n",
            "Precedence: bulk\n",
            "List-Help: <mailto:fork-request@xent.com?subject=help>\n",
            "List-Post: <mailto:fork@spamassassin.taint.org>\n",
            "List-Subscribe: <http://xent.com/mailman/listinfo/fork>, <mailto:fork-request@xent.com?subject=subscribe>\n",
            "List-Id: Friends of Rohit Khare <fork.xent.com>\n",
            "List-Unsubscribe: <http://xent.com/mailman/listinfo/fork>,\n",
            "    <mailto:fork-request@xent.com?subject=unsubscribe>\n",
            "List-Archive: <http://xent.com/pipermail/fork/>\n",
            "Date: 30 Sep 2002 10:36:37 -0700\n",
            "\n",
            "On Mon, 2002-09-30 at 09:20, Owen Byrne wrote:\n",
            "> In my experience, this is classic \"American\" behaviour, and I don't \n",
            "> think its on the increase outside of the US of A.\n",
            "\n",
            "\n",
            "In my experience, this protest behavior is really only an issue in\n",
            "\"ultra-liberal\" coastal cities, which is where I normally live.  It is\n",
            "part of the culture and that behavior is viewed as acceptable.  \n",
            "\n",
            "For comparison, contrast this with the character of the arguably more\n",
            "serious protests against Federal government abuse in the inter-mountain\n",
            "West.  They have a very different idea of what constitutes acceptable\n",
            "protest practice.  Those protests remain largely civil and polite, if\n",
            "heated and aggressive, and those involve a far greater percentage of the\n",
            "local population.  And unlike 99% of the liberal coastal city protests\n",
            "I've seen, the people protesting in the inter-mountain West are actually\n",
            "facing immediate dire consequences from the activities they are\n",
            "protesting and are strongly motivated to protest in a manner that gets\n",
            "results.  Some of their tactics, such as the practice of many businesses\n",
            "and restaurants in northern Nevada to not give service to anyone known\n",
            "to be in the employ of the BLM and related agencies, have been very\n",
            "effective at forcing dialog.  I don't recall anyone characterizing their\n",
            "protests as impolite, rude, or violent, but then they have more to lose.\n",
            "\n",
            "\n",
            "-James Rogers\n",
            " jamesr@best.com\n",
            "\n",
            "\n",
            "\n",
            "-----------------------------\n",
            "\n"
          ]
        }
      ]
    },
    {
      "cell_type": "markdown",
      "source": [
        "# **MODEL BUILDING & TRAINING**"
      ],
      "metadata": {
        "id": "7fFrBsjwxDik"
      }
    },
    {
      "cell_type": "markdown",
      "source": [
        "**MODEL BUILDING**"
      ],
      "metadata": {
        "id": "jjhRuJRC99kM"
      }
    },
    {
      "cell_type": "code",
      "source": [
        "\n",
        "# Train the model\n",
        "def train_model(emails, labels):\n",
        "    # Split the dataset into training and testing sets\n",
        "    X_train, X_test, y_train, y_test = train_test_split(emails, labels, test_size=0.2, random_state=42)\n",
        "    \n",
        "    # Tokenize the text\n",
        "    tokenizer = Tokenizer(num_words=10000)\n",
        "    tokenizer.fit_on_texts(X_train)\n",
        "    \n",
        "    X_train = tokenizer.texts_to_sequences(X_train)\n",
        "    X_test = tokenizer.texts_to_sequences(X_test)\n",
        "    \n",
        "    # Padding\n",
        "    max_sequence_length = 500\n",
        "    X_train = pad_sequences(X_train, maxlen=max_sequence_length)\n",
        "    X_test = pad_sequences(X_test, maxlen=max_sequence_length)\n",
        "    \n",
        "    # Build the model\n",
        "    model = Sequential()\n",
        "    model.add(Embedding(10000, 128, input_length=max_sequence_length))\n",
        "    model.add(LSTM(128, dropout=0.2, recurrent_dropout=0.2))\n",
        "    model.add(Dense(1, activation='sigmoid'))\n",
        "    \n",
        "    model.compile(loss='binary_crossentropy', optimizer='adam', metrics=['accuracy'])\n",
        "    \n",
        "    # Train the model\n",
        "    model.fit(X_train, y_train, batch_size=128, epochs=5, validation_data=(X_test, y_test))\n",
        "    \n",
        "    # Evaluate the model\n",
        "    loss, accuracy = model.evaluate(X_test, y_test)\n",
        "    print(\"Loss:\", loss)\n",
        "    print(\"Accuracy:\", accuracy)\n",
        "    \n",
        "    return model, tokenizer\n",
        "\n",
        "    "
      ],
      "metadata": {
        "id": "6cMSO_zfvWuk"
      },
      "execution_count": null,
      "outputs": []
    },
    {
      "cell_type": "markdown",
      "source": [
        "**MODEL TRAINING**"
      ],
      "metadata": {
        "id": "LFxRL_FX9sdM"
      }
    },
    {
      "cell_type": "code",
      "source": [
        "    # Load the dataset\n",
        "    emails, labels = load_dataset()\n",
        "\n",
        "    # Train the model\n",
        "    model, tokenizer = train_model(emails, labels)"
      ],
      "metadata": {
        "colab": {
          "base_uri": "https://localhost:8080/"
        },
        "id": "hB-X1DPzv33c",
        "outputId": "aef3546d-a2ae-4c3f-fdeb-0b2acfc71f5d"
      },
      "execution_count": null,
      "outputs": [
        {
          "output_type": "stream",
          "name": "stdout",
          "text": [
            "Epoch 1/5\n",
            "19/19 [==============================] - 56s 3s/step - loss: 0.4667 - accuracy: 0.8263 - val_loss: 0.2692 - val_accuracy: 0.8752\n",
            "Epoch 2/5\n",
            "19/19 [==============================] - 52s 3s/step - loss: 0.1652 - accuracy: 0.9546 - val_loss: 0.1368 - val_accuracy: 0.9651\n",
            "Epoch 3/5\n",
            "19/19 [==============================] - 51s 3s/step - loss: 0.0624 - accuracy: 0.9833 - val_loss: 0.0792 - val_accuracy: 0.9800\n",
            "Epoch 4/5\n",
            "19/19 [==============================] - 51s 3s/step - loss: 0.0228 - accuracy: 0.9963 - val_loss: 0.1111 - val_accuracy: 0.9734\n",
            "Epoch 5/5\n",
            "19/19 [==============================] - 56s 3s/step - loss: 0.0099 - accuracy: 0.9979 - val_loss: 0.0440 - val_accuracy: 0.9850\n",
            "19/19 [==============================] - 3s 146ms/step - loss: 0.0440 - accuracy: 0.9850\n",
            "Loss: 0.04404081031680107\n",
            "Accuracy: 0.9850249290466309\n"
          ]
        }
      ]
    },
    {
      "cell_type": "markdown",
      "source": [
        "# **MODEL TESTING**"
      ],
      "metadata": {
        "id": "wJWjhYLhxNEE"
      }
    },
    {
      "cell_type": "markdown",
      "source": [
        "**Contoh email yang akan diuji** : \n",
        "\n",
        "Subject: Make money fast!\n",
        "\n",
        "Dear recipient,\n",
        "\n",
        "Congratulations! You have been selected to participate in a unique opportunity to make money fast. Our revolutionary program guarantees that you can earn thousands of dollars in just a few days!\n",
        "\n",
        "With our proven system, you don't need any experience or special skills. Simply follow our step-by-step guide and start making money immediately. Don't miss out on this incredible offer!\n",
        "\n",
        "To get started, reply to this email with your full name and bank account details. Once we receive your information, we will provide you with further instructions on how to unlock your earning potential.\n",
        "\n",
        "Remember, this is a limited-time opportunity. Act now and secure your financial future!\n",
        "\n",
        "Best regards,\n",
        "The Money Making Team"
      ],
      "metadata": {
        "id": "cFGmpDp5xiw0"
      }
    },
    {
      "cell_type": "code",
      "source": [
        "# Function to classify user input email\n",
        "def classify_email(email):\n",
        "    # Preprocess the email\n",
        "    email_sequence = tokenizer.texts_to_sequences([email])\n",
        "    email_sequence = pad_sequences(email_sequence, maxlen=500)\n",
        "    \n",
        "    # Classify the email\n",
        "    prediction = model.predict(email_sequence)\n",
        "    spam_probability = prediction[0][0]\n",
        "    \n",
        "    if spam_probability > 0.5:\n",
        "        return \"This email is classified as spam.\"\n",
        "    else:\n",
        "        return \"This email is not spam.\"\n",
        "\n",
        "# Get user input email\n",
        "user_email = input(\"Enter an email: \")\n",
        "\n",
        "# Classify the user input email\n",
        "classification = classify_email(user_email)\n",
        "print(classification)"
      ],
      "metadata": {
        "colab": {
          "base_uri": "https://localhost:8080/"
        },
        "id": "W5LEswI5vSXc",
        "outputId": "5102d9c0-fbb2-4f8e-d2e3-1d099e63c605"
      },
      "execution_count": null,
      "outputs": [
        {
          "output_type": "stream",
          "name": "stdout",
          "text": [
            "Enter an email: Subject: ***SPAM*** Make money fast!  Dear recipient,  Congratulations! You have been selected to participate in a unique opportunity to make money fast. Our revolutionary program guarantees that you can earn thousands of dollars in just a few days!  With our proven system, you don't need any experience or special skills. Simply follow our step-by-step guide and start making money immediately. Don't miss out on this incredible offer!  To get started, reply to this email with your full name and bank account details. Once we receive your information, we will provide you with further instructions on how to unlock your earning potential.  Remember, this is a limited-time opportunity. Act now and secure your financial future!  Best regards, The Money Making Team\n",
            "1/1 [==============================] - 0s 68ms/step\n",
            "This email is classified as spam.\n"
          ]
        }
      ]
    },
    {
      "cell_type": "markdown",
      "source": [
        "# **KESIMPULAN**"
      ],
      "metadata": {
        "id": "ajayQrsixWfU"
      }
    },
    {
      "cell_type": "markdown",
      "source": [
        "Dari pengujian dapat kita ambil kesimpulan, melalui penggunaan neural network dalam proyek ini, model berhasil mengklasifikasikan email-email sebagai spam atau non-spam dengan akurasi yang dapat diandalkan. Dengan mempelajari pola dan karakteristik email spam, model dapat mengenali ciri-ciri khas yang membedakan email spam dari non-spam. Penggunaan neural network dalam klasifikasi email spam memungkinkan kita untuk secara efektif mengidentifikasi dan memfilter email-email yang tidak diinginkan, meningkatkan pengalaman pengguna dan keamanan komunikasi melalui email."
      ],
      "metadata": {
        "id": "gn0a-JVNxYvM"
      }
    }
  ]
}